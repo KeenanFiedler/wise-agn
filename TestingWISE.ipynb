{
 "cells": [
  {
   "cell_type": "code",
   "execution_count": null,
   "id": "5ca9e12e-e6ba-4f20-9066-dd6fadf57d4d",
   "metadata": {
    "execution": {
     "iopub.execute_input": "2024-06-13T19:53:19.318385Z",
     "iopub.status.busy": "2024-06-13T19:53:19.318106Z",
     "iopub.status.idle": "2024-06-13T19:53:20.568127Z",
     "shell.execute_reply": "2024-06-13T19:53:20.567421Z",
     "shell.execute_reply.started": "2024-06-13T19:53:19.318372Z"
    }
   },
   "outputs": [],
   "source": [
    "# std lib\n",
    "from getpass import getpass\n",
    "import random\n",
    "\n",
    "# 3rd party \n",
    "import numpy as np\n",
    "\n",
    "import matplotlib.pyplot as plt\n",
    "from matplotlib.patches import Rectangle\n",
    "import matplotlib\n",
    "%matplotlib inline\n",
    "\n",
    "# Data Lab\n",
    "from dl import authClient as ac, queryClient as qc, storeClient as sc\n",
    "from sparcl.client import SparclClient\n",
    "\n",
    "import numpy as np\n",
    "import healpy as hp\n",
    "import sys"
   ]
  },
  {
   "cell_type": "markdown",
   "id": "a798e506-dc54-4c3b-9dcd-4c72260b1586",
   "metadata": {
    "jp-MarkdownHeadingCollapsed": true
   },
   "source": [
    "<a class=\"anchor\" id=\"async\"></a>\n",
    "# ALLWISE"
   ]
  },
  {
   "cell_type": "code",
   "execution_count": 2,
   "id": "9db6739e-9d59-47d1-b9f3-665c6298a6e8",
   "metadata": {
    "execution": {
     "iopub.execute_input": "2024-06-11T21:10:44.384163Z",
     "iopub.status.busy": "2024-06-11T21:10:44.383853Z",
     "iopub.status.idle": "2024-06-11T21:10:44.387557Z",
     "shell.execute_reply": "2024-06-11T21:10:44.386964Z",
     "shell.execute_reply.started": "2024-06-11T21:10:44.384143Z"
    }
   },
   "outputs": [],
   "source": [
    "query = \"\"\"\n",
    "SELECT \n",
    "S.w1mpro as w1, S.w2mpro as w2, S.source_id as id, S.ra as ra, S.dec as dec, S.ring256 as ring256, S.w1snr as w1snr, S.w2snr as w2snr, S.cc_flags as cc_flags, S.glat as lat, S.glon as lon\n",
    "FROM allwise.source as S\n",
    "WHERE ((S.w1mpro - S.w2mpro) > 0.65*EXP((0.153*POWER(ABS(S.w2mpro-13.86),2))) AND S.w2mpro > 13.86) \n",
    "OR ((S.w1mpro - S.w2mpro) > 0.65 AND S.w2mpro < 13.86) \n",
    "\"\"\""
   ]
  },
  {
   "cell_type": "code",
   "execution_count": null,
   "id": "79195bba-55db-4335-b00d-cd6566677bd6",
   "metadata": {},
   "outputs": [],
   "source": [
    "final_table = qc.query(sql=query, timeout = 100000, out='mydb://allwise_firstpass', drop=True)\n",
    "print(final_table)"
   ]
  },
  {
   "cell_type": "code",
   "execution_count": null,
   "id": "24c79a11-2026-4572-8585-6697f697630e",
   "metadata": {},
   "outputs": [],
   "source": [
    "#ALLWISE\n",
    "new_query = \"\"\"\n",
    "SELECT *\n",
    "FROM mydb://allwise_firstpass\n",
    "WHERE w1 > 8 AND w2 > 7 AND w1snr>3 AND w2snr>5 AND CAST(cc_flags as char)='0'\n",
    "\"\"\""
   ]
  },
  {
   "cell_type": "code",
   "execution_count": null,
   "id": "3b400e34-3b65-48af-bda4-e3cebe49e595",
   "metadata": {},
   "outputs": [],
   "source": [
    "final_table = qc.query(sql=new_query, timeout = 100000, out='mydb://allwise_errorcuts', drop=True)\n",
    "print(final_table)"
   ]
  },
  {
   "cell_type": "code",
   "execution_count": null,
   "id": "00324aa6-4b85-4066-89a8-b6080ee9bcda",
   "metadata": {},
   "outputs": [],
   "source": [
    "query = \"\"\"\n",
    "SELECT *\n",
    "FROM mydb://allwise_errorcuts\n",
    "WHERE NOT q3c_radial_query(lon, lat, 0, 0, 30) AND (lat > 10 or lat < -10)\n",
    "\"\"\"\n",
    "final_table = qc.query(sql=query, timeout = 100000, out='mydb://allwise_center_errorcut', drop=True)\n",
    "print(final_table)\n",
    "print(qc.mydb_list())"
   ]
  },
  {
   "cell_type": "code",
   "execution_count": null,
   "id": "864d72eb-3a9c-48ba-bf65-e49e162ef0f7",
   "metadata": {},
   "outputs": [],
   "source": [
    "#ALLWISE\n",
    "test_table = qc.query('select ra from mydb://allwise_center_errorcut', fmt = 'pandas')\n",
    "print(test_table)\n",
    "test_table = qc.query('select COUNT(ra), ring256 from mydb://allwise_center_errorcut group by ring256', fmt = 'pandas')\n",
    "print(test_table)"
   ]
  },
  {
   "cell_type": "code",
   "execution_count": null,
   "id": "301d9d42-4689-44cd-a1c3-c759751a8c9f",
   "metadata": {},
   "outputs": [],
   "source": [
    "test_table = test_table.sort_values(by=['ring256'])\n",
    "ring256 = np.array(test_table.loc[:,'ring256'])\n",
    "counts = np.array(test_table.loc[:,'count'])\n",
    "empty_counts = np.zeros(hp.nside2npix(256))\n",
    "for i in range(len(counts)):\n",
    "    empty_counts[ring256[i]] = counts[i]\n"
   ]
  },
  {
   "cell_type": "code",
   "execution_count": null,
   "id": "2c73e156-74ef-4aba-880e-c7f3184633fd",
   "metadata": {},
   "outputs": [],
   "source": [
    "wise_data = qc.query('select * from mydb://wise_table', fmt = 'pandas')\n",
    "print(wise_data)"
   ]
  },
  {
   "cell_type": "code",
   "execution_count": null,
   "id": "43539939-da86-4bcd-bb31-7691ab9aabf9",
   "metadata": {},
   "outputs": [],
   "source": [
    "decl = wise_data.loc[:,'dec']\n",
    "RA = wise_data.loc[:,'ra']\n",
    "pixels = np.array(hp.pixelfunc.ang2pix(256,np.radians(-decl+90.),np.radians(360.+RA)))\n",
    "pixels.sort()\n",
    "frequency = {}\n",
    "for i in range (0, 4543530):\n",
    "    frequency[pixels[i]] = frequency.get(pixels[i], 0) + 1\n",
    "keys = list(frequency.keys())\n",
    "vals = list(frequency.values())"
   ]
  },
  {
   "cell_type": "code",
   "execution_count": null,
   "id": "61e641e5-8cef-4412-a6f4-4d558ffaf82e",
   "metadata": {},
   "outputs": [],
   "source": [
    "empty_wise_counts = np.zeros(hp.nside2npix(256))\n",
    "for i in range(len(vals)):\n",
    "    empty_wise_counts[keys[i]] = vals[i]"
   ]
  },
  {
   "cell_type": "code",
   "execution_count": null,
   "id": "e4fdb5a6-f0fd-4c95-8ce1-24e9dd6b5f0f",
   "metadata": {},
   "outputs": [],
   "source": [
    "hp.mollview(empty_counts, title=\"AGN Count\", norm='hist')\n",
    "hp.mollview(empty_wise_counts, title=\"AGN Count\", norm='hist')"
   ]
  },
  {
   "cell_type": "code",
   "execution_count": null,
   "id": "40a79afd-bf87-4889-93eb-e33bea4109c8",
   "metadata": {},
   "outputs": [],
   "source": [
    "hist_table = qc.query('select w1, w2 from mydb://allwise_center_errorcut', fmt = 'pandas')"
   ]
  },
  {
   "cell_type": "code",
   "execution_count": null,
   "id": "240b3bc9-d804-41e8-b25f-51eb12debc37",
   "metadata": {},
   "outputs": [],
   "source": [
    "plt.hist(hist_table.loc[:,'w1'], bins = 20,label = \"My Query\", color = 'b', alpha = 0.5)\n",
    "plt.hist(wise_data.loc[:,'w1mpro'], bins = 20,label = \"Assef et al. 2018\", color= 'r',alpha = 0.5)\n",
    "plt.title(\"W1 Magnitude\")\n",
    "plt.legend()\n",
    "plt.show()\n",
    "plt.hist(hist_table.loc[:,'w2'], bins = 20,label = \"My Query\", alpha = 0.5, color= 'b')\n",
    "plt.hist(wise_data.loc[:,'w2mpro'], bins = 20,label = \"Assef et al. 2018\", alpha = 0.5, color= 'r')\n",
    "plt.title(\"W2 Magnitude\")\n",
    "plt.legend()\n",
    "plt.show()"
   ]
  },
  {
   "cell_type": "code",
   "execution_count": null,
   "id": "612940b8-bd82-40bc-8080-1a96e78e06a0",
   "metadata": {},
   "outputs": [],
   "source": [
    "w21_my = hist_table.loc[:,'w2']-hist_table.loc[:,'w1']\n",
    "w21_assef = wise_data.loc[:,'w2mpro']-wise_data.loc[:,'w1mpro']\n",
    "w2 = hist_table.loc[:,'w2']\n",
    "w2_assef =  wise_data.loc[:,'w2mpro']"
   ]
  },
  {
   "cell_type": "code",
   "execution_count": null,
   "id": "7184e8f6-fd97-4907-a78c-eeea0f689632",
   "metadata": {},
   "outputs": [],
   "source": [
    "plt.hist2d(w2,w21_my, bins = 40,norm=matplotlib.colors.LogNorm())\n",
    "plt.title(\"W2-W1 CMD from my query\")\n",
    "plt.xlabel('W2 magnitude')\n",
    "plt.ylabel('W2-W1')\n",
    "plt.show()\n",
    "plt.hist2d(w2_assef,w21_assef,bins = 40,norm=matplotlib.colors.LogNorm())\n",
    "plt.title(\"W2-W1 CMD from Assef et. al. data\")\n",
    "plt.ylabel('W2-W1')\n",
    "plt.xlabel('W2 magnitude')\n",
    "plt.show()"
   ]
  },
  {
   "cell_type": "markdown",
   "id": "d401d633-5ebb-4430-a25c-680c8e376cbe",
   "metadata": {},
   "source": [
    "<a class=\"anchor\" id=\"async\"></a>\n",
    "# unWISE"
   ]
  },
  {
   "cell_type": "code",
   "execution_count": 24,
   "id": "6414aa90-3219-4e51-954c-60d611078a09",
   "metadata": {
    "execution": {
     "iopub.execute_input": "2024-06-14T15:10:10.835795Z",
     "iopub.status.busy": "2024-06-14T15:10:10.835597Z",
     "iopub.status.idle": "2024-06-14T15:10:10.838183Z",
     "shell.execute_reply": "2024-06-14T15:10:10.837821Z",
     "shell.execute_reply.started": "2024-06-14T15:10:10.835782Z"
    }
   },
   "outputs": [],
   "source": [
    "#UNWISE\n",
    "squery = \"\"\"\n",
    "SELECT \n",
    "S.mag_w1_vg as w1, S.mag_w2_vg as w2, S.unwise_objid as id, S.ra as ra, S.dec as dec, S.ring256 as ring256, S.glat as lat, S.glon as lon\n",
    "FROM unwise_dr1.object as S\n",
    "WHERE S.mag_w2_vg > 7.032 AND S.mag_w1_vg > 8.004 AND (S.glat > 10 OR S.glat < -10)\n",
    "\"\"\""
   ]
  },
  {
   "cell_type": "code",
   "execution_count": null,
   "id": "eb8133d3-6682-4b52-ae46-54f48623099e",
   "metadata": {},
   "outputs": [],
   "source": [
    "new_table = qc.query(sql=squery, timeout = 1000000, out='mydb://unwise_mags', async_=True, poll=60, verbose = 1, wait=True, drop=True)\n",
    "print(new_table)"
   ]
  },
  {
   "cell_type": "code",
   "execution_count": 41,
   "id": "48dc3231-37ea-4082-b8fb-bac49c3bf75c",
   "metadata": {
    "execution": {
     "iopub.execute_input": "2024-06-14T17:43:22.971497Z",
     "iopub.status.busy": "2024-06-14T17:43:22.971140Z",
     "iopub.status.idle": "2024-06-14T17:43:23.054569Z",
     "shell.execute_reply": "2024-06-14T17:43:23.053972Z",
     "shell.execute_reply.started": "2024-06-14T17:43:22.971483Z"
    }
   },
   "outputs": [
    {
     "name": "stdout",
     "output_type": "stream",
     "text": [
      "allwise_center_errorcut\n",
      "allwise_errorcuts\n",
      "allwise_firstpass\n",
      "tbl_stat\n",
      "unwise\n",
      "unwise_center_errorcut\n",
      "unwise_firstpass\n",
      "unwise_mags\n",
      "wise_table\n",
      "\n"
     ]
    }
   ],
   "source": [
    "print(qc.mydb_list())"
   ]
  },
  {
   "cell_type": "code",
   "execution_count": 42,
   "id": "06c89844-b29c-4128-a5a6-625a75ef60dd",
   "metadata": {
    "execution": {
     "iopub.execute_input": "2024-06-14T17:43:28.657544Z",
     "iopub.status.busy": "2024-06-14T17:43:28.657315Z",
     "iopub.status.idle": "2024-06-14T17:43:28.660438Z",
     "shell.execute_reply": "2024-06-14T17:43:28.659927Z",
     "shell.execute_reply.started": "2024-06-14T17:43:28.657531Z"
    }
   },
   "outputs": [],
   "source": [
    "query = \"\"\"\n",
    "SELECT *\n",
    "FROM mydb://unwise_mags\n",
    "WHERE ((w1-w2-0.036) > 0.65*EXP((0.153*POWER(ABS(w2-13.892),2))) AND w2 > 13.892) OR ((w1-w2-0.036) > 0.65 AND w2 < 13.892) \n",
    "\"\"\""
   ]
  },
  {
   "cell_type": "code",
   "execution_count": 43,
   "id": "3449dd1f-8b21-4a66-b8c3-7c5a5853a051",
   "metadata": {
    "execution": {
     "iopub.execute_input": "2024-06-14T17:43:29.126434Z",
     "iopub.status.busy": "2024-06-14T17:43:29.126197Z",
     "iopub.status.idle": "2024-06-14T17:43:31.619734Z",
     "shell.execute_reply": "2024-06-14T17:43:31.619138Z",
     "shell.execute_reply.started": "2024-06-14T17:43:29.126421Z"
    }
   },
   "outputs": [
    {
     "name": "stdout",
     "output_type": "stream",
     "text": [
      "OK\n"
     ]
    }
   ],
   "source": [
    "#UNWISE\n",
    "final_table = qc.query(sql=query, timeout = 1000000, out='mydb://unwise_firstpass', drop=True)\n",
    "print(final_table)"
   ]
  },
  {
   "cell_type": "code",
   "execution_count": 44,
   "id": "db2ae48a-c95d-44cb-b9c5-18cb01aad17f",
   "metadata": {
    "execution": {
     "iopub.execute_input": "2024-06-14T17:43:33.771344Z",
     "iopub.status.busy": "2024-06-14T17:43:33.771108Z",
     "iopub.status.idle": "2024-06-14T17:43:34.175462Z",
     "shell.execute_reply": "2024-06-14T17:43:34.174936Z",
     "shell.execute_reply.started": "2024-06-14T17:43:33.771329Z"
    }
   },
   "outputs": [
    {
     "name": "stdout",
     "output_type": "stream",
     "text": [
      "OK\n"
     ]
    }
   ],
   "source": [
    "#UNWISE\n",
    "query = \"\"\"\n",
    "SELECT *\n",
    "FROM mydb://unwise_firstpass\n",
    "WHERE NOT q3c_radial_query(lon, lat, 0, 0, 30)\n",
    "\"\"\"\n",
    "final_table = qc.query(sql=query, timeout = 100000, out='mydb://unwise_center_errorcut', drop=True)\n",
    "print(final_table)"
   ]
  },
  {
   "cell_type": "code",
   "execution_count": 46,
   "id": "f55c76b5-6b21-45ec-9fdf-cb7cf0279ec6",
   "metadata": {
    "execution": {
     "iopub.execute_input": "2024-06-14T17:43:49.416973Z",
     "iopub.status.busy": "2024-06-14T17:43:49.416789Z",
     "iopub.status.idle": "2024-06-14T17:43:49.771288Z",
     "shell.execute_reply": "2024-06-14T17:43:49.770752Z",
     "shell.execute_reply.started": "2024-06-14T17:43:49.416956Z"
    }
   },
   "outputs": [
    {
     "name": "stdout",
     "output_type": "stream",
     "text": [
      "             w2\n",
      "0      7.052444\n",
      "1      7.251256\n",
      "2      7.285864\n",
      "3      7.079338\n",
      "4      7.259089\n",
      "...         ...\n",
      "7625  11.218826\n",
      "7626  11.200016\n",
      "7627  11.137479\n",
      "7628  10.923736\n",
      "7629  11.010469\n",
      "\n",
      "[7630 rows x 1 columns]\n",
      "      count  ring256\n",
      "0         1   554098\n",
      "1         1    53949\n",
      "2         3   761669\n",
      "3         1   270017\n",
      "4         1   771556\n",
      "...     ...      ...\n",
      "5226      1   185773\n",
      "5227      1   749278\n",
      "5228      2   767120\n",
      "5229      1   359580\n",
      "5230      1     1715\n",
      "\n",
      "[5231 rows x 2 columns]\n"
     ]
    }
   ],
   "source": [
    "#UNWISE\n",
    "test_table = qc.query('select w2 from mydb://unwise_center_errorcut', fmt = 'pandas')\n",
    "print(test_table)\n",
    "#UNWISE\n",
    "test_table = qc.query('select COUNT(ra), ring256 from mydb://unwise_center_errorcut group by ring256', fmt = 'pandas')\n",
    "print(test_table)"
   ]
  },
  {
   "cell_type": "code",
   "execution_count": 47,
   "id": "9e14cfee-2f92-48b5-bec0-253b15e673b9",
   "metadata": {
    "execution": {
     "iopub.execute_input": "2024-06-14T17:44:00.455451Z",
     "iopub.status.busy": "2024-06-14T17:44:00.455231Z",
     "iopub.status.idle": "2024-06-14T17:44:00.462173Z",
     "shell.execute_reply": "2024-06-14T17:44:00.461691Z",
     "shell.execute_reply.started": "2024-06-14T17:44:00.455438Z"
    }
   },
   "outputs": [],
   "source": [
    "test_table = test_table.sort_values(by=['ring256'])\n",
    "ring256 = np.array(test_table.loc[:,'ring256'])\n",
    "counts = np.array(test_table.loc[:,'count'])\n",
    "empty_counts = np.zeros(hp.nside2npix(256))\n",
    "for i in range(len(counts)):\n",
    "    empty_counts[ring256[i]] = counts[i]\n"
   ]
  },
  {
   "cell_type": "code",
   "execution_count": null,
   "id": "03f465db-bd67-4002-abfe-1e5a4bae4a7c",
   "metadata": {
    "execution": {
     "iopub.execute_input": "2024-06-14T17:44:01.168948Z",
     "iopub.status.busy": "2024-06-14T17:44:01.168773Z"
    }
   },
   "outputs": [],
   "source": [
    "wise_data = qc.query('select * from mydb://wise_table', fmt = 'pandas')\n",
    "print(wise_data)"
   ]
  },
  {
   "cell_type": "code",
   "execution_count": null,
   "id": "f91e119a-43c7-4fa6-9a4e-3f95242c84e1",
   "metadata": {},
   "outputs": [],
   "source": [
    "decl = wise_data.loc[:,'dec']\n",
    "RA = wise_data.loc[:,'ra']\n",
    "pixels = np.array(hp.pixelfunc.ang2pix(256,np.radians(-decl+90.),np.radians(360.+RA)))\n",
    "pixels.sort()\n",
    "frequency = {}\n",
    "for i in range (0, 4543530):\n",
    "    frequency[pixels[i]] = frequency.get(pixels[i], 0) + 1\n",
    "keys = list(frequency.keys())\n",
    "vals = list(frequency.values())"
   ]
  },
  {
   "cell_type": "code",
   "execution_count": null,
   "id": "b194e2fe-021a-45aa-8bab-5e56a7e5b6ec",
   "metadata": {},
   "outputs": [],
   "source": [
    "empty_wise_counts = np.zeros(hp.nside2npix(256))\n",
    "for i in range(len(vals)):\n",
    "    empty_wise_counts[keys[i]] = vals[i]"
   ]
  },
  {
   "cell_type": "code",
   "execution_count": null,
   "id": "f33626a5-1f5b-4811-bc7c-ab681dadfc0c",
   "metadata": {},
   "outputs": [],
   "source": [
    "hp.mollview(empty_counts, title=\"AGN Count\", norm='hist')\n",
    "hp.mollview(empty_wise_counts, title=\"AGN Count\", norm='hist')"
   ]
  },
  {
   "cell_type": "code",
   "execution_count": 11,
   "id": "2bd6f00c-3626-4236-ae8a-66f954fac96e",
   "metadata": {
    "execution": {
     "iopub.execute_input": "2024-06-11T21:13:03.298948Z",
     "iopub.status.busy": "2024-06-11T21:13:03.298797Z",
     "iopub.status.idle": "2024-06-11T21:13:16.338858Z",
     "shell.execute_reply": "2024-06-11T21:13:16.338172Z",
     "shell.execute_reply.started": "2024-06-11T21:13:03.298935Z"
    }
   },
   "outputs": [],
   "source": [
    "hist_table = qc.query('select w1, w2 from mydb://allwise_center_errorcut', fmt = 'pandas')"
   ]
  },
  {
   "cell_type": "code",
   "execution_count": 12,
   "id": "ccab0b55-e6b1-4b8c-b780-bdcbae098caa",
   "metadata": {
    "execution": {
     "iopub.execute_input": "2024-06-11T21:13:16.339803Z",
     "iopub.status.busy": "2024-06-11T21:13:16.339618Z",
     "iopub.status.idle": "2024-06-11T21:13:16.740160Z",
     "shell.execute_reply": "2024-06-11T21:13:16.739571Z",
     "shell.execute_reply.started": "2024-06-11T21:13:16.339790Z"
    }
   },
   "outputs": [
    {
     "data": {
      "image/png": "[encoded data removed]",
      "text/plain": [
       "<Figure size 640x480 with 1 Axes>"
      ]
     },
     "metadata": {},
     "output_type": "display_data"
    },
    {
     "data": {
      "image/png": "[encoded data removed]",
      "text/plain": [
       "<Figure size 640x480 with 1 Axes>"
      ]
     },
     "metadata": {},
     "output_type": "display_data"
    }
   ],
   "source": [
    "plt.hist(hist_table.loc[:,'w1'], bins = 20,label = \"My Query\", color = 'b', alpha = 0.5)\n",
    "plt.hist(wise_data.loc[:,'w1mpro'], bins = 20,label = \"Assef et al. 2018\", color= 'r',alpha = 0.5)\n",
    "plt.title(\"W1 Magnitude\")\n",
    "plt.legend()\n",
    "plt.show()\n",
    "plt.hist(hist_table.loc[:,'w2'], bins = 20,label = \"My Query\", alpha = 0.5, color= 'b')\n",
    "plt.hist(wise_data.loc[:,'w2mpro'], bins = 20,label = \"Assef et al. 2018\", alpha = 0.5, color= 'r')\n",
    "plt.title(\"W2 Magnitude\")\n",
    "plt.legend()\n",
    "plt.show()"
   ]
  },
  {
   "cell_type": "code",
   "execution_count": 21,
   "id": "79b2959f-2e81-4981-acdb-559e4b8f7c7c",
   "metadata": {
    "execution": {
     "iopub.execute_input": "2024-06-11T21:20:23.289218Z",
     "iopub.status.busy": "2024-06-11T21:20:23.288999Z",
     "iopub.status.idle": "2024-06-11T21:20:23.304865Z",
     "shell.execute_reply": "2024-06-11T21:20:23.304237Z",
     "shell.execute_reply.started": "2024-06-11T21:20:23.289204Z"
    }
   },
   "outputs": [],
   "source": [
    "w21_my = hist_table.loc[:,'w2']-hist_table.loc[:,'w1']\n",
    "w21_assef = wise_data.loc[:,'w2mpro']-wise_data.loc[:,'w1mpro']\n",
    "w2 = hist_table.loc[:,'w2']\n",
    "w2_assef =  wise_data.loc[:,'w2mpro']"
   ]
  },
  {
   "cell_type": "code",
   "execution_count": 43,
   "id": "dc97eb4d-10bd-4bab-8418-f8df0ebea35e",
   "metadata": {
    "execution": {
     "iopub.execute_input": "2024-06-11T21:31:51.602550Z",
     "iopub.status.busy": "2024-06-11T21:31:51.602202Z",
     "iopub.status.idle": "2024-06-11T21:31:52.272956Z",
     "shell.execute_reply": "2024-06-11T21:31:52.272426Z",
     "shell.execute_reply.started": "2024-06-11T21:31:51.602534Z"
    }
   },
   "outputs": [
    {
     "data": {
      "image/png": "[encoded data removed]",
      "text/plain": [
       "<Figure size 640x480 with 1 Axes>"
      ]
     },
     "metadata": {},
     "output_type": "display_data"
    },
    {
     "data": {
      "image/png": "[encoded data removed]",
      "text/plain": [
       "<Figure size 640x480 with 1 Axes>"
      ]
     },
     "metadata": {},
     "output_type": "display_data"
    }
   ],
   "source": [
    "plt.hist2d(w2,w21_my, bins = 40,norm=matplotlib.colors.LogNorm())\n",
    "plt.title(\"W2-W1 CMD from my query\")\n",
    "plt.xlabel('W2 magnitude')\n",
    "plt.ylabel('W2-W1')\n",
    "plt.show()\n",
    "plt.hist2d(w2_assef,w21_assef,bins = 40,norm=matplotlib.colors.LogNorm())\n",
    "plt.title(\"W2-W1 CMD from Assef et. al. data\")\n",
    "plt.ylabel('W2-W1')\n",
    "plt.xlabel('W2 magnitude')\n",
    "plt.show()"
   ]
  }
 ],
 "metadata": {
  "kernelspec": {
   "display_name": "Python 3",
   "language": "python",
   "name": "python3"
  },
  "language_info": {
   "codemirror_mode": {
    "name": "ipython",
    "version": 3
   },
   "file_extension": ".py",
   "mimetype": "text/x-python",
   "name": "python",
   "nbconvert_exporter": "python",
   "pygments_lexer": "ipython3",
   "version": "3.10.13"
  }
 },
 "nbformat": 4,
 "nbformat_minor": 5
}
