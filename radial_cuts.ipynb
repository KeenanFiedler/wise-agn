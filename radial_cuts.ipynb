{
 "cells": [
  {
   "cell_type": "code",
   "execution_count": 189,
   "id": "be507391-63cc-45b5-8162-6ff6f5b3f089",
   "metadata": {
    "execution": {
     "iopub.execute_input": "2024-06-21T20:56:07.626977Z",
     "iopub.status.busy": "2024-06-21T20:56:07.626685Z",
     "iopub.status.idle": "2024-06-21T20:56:07.633241Z",
     "shell.execute_reply": "2024-06-21T20:56:07.632671Z",
     "shell.execute_reply.started": "2024-06-21T20:56:07.626963Z"
    }
   },
   "outputs": [],
   "source": [
    "# std lib\n",
    "from getpass import getpass\n",
    "import random\n",
    "\n",
    "# 3rd party \n",
    "import numpy as np\n",
    "\n",
    "import matplotlib.pyplot as plt\n",
    "from matplotlib.patches import Rectangle\n",
    "import matplotlib\n",
    "%matplotlib inline\n",
    "\n",
    "# Data Lab\n",
    "from dl import authClient as ac, queryClient as qc, storeClient as sc\n",
    "from sparcl.client import SparclClient\n",
    "\n",
    "import numpy as np\n",
    "import healpy as hp\n",
    "import sys\n",
    "import pandas\n",
    "import numpy.ma as ma\n",
    "import scipy.spatial as sp"
   ]
  },
  {
   "cell_type": "code",
   "execution_count": 190,
   "id": "1de1a92a-1704-4e17-a742-b80f33328489",
   "metadata": {
    "execution": {
     "iopub.execute_input": "2024-06-21T20:56:08.666099Z",
     "iopub.status.busy": "2024-06-21T20:56:08.665832Z",
     "iopub.status.idle": "2024-06-21T20:56:08.669181Z",
     "shell.execute_reply": "2024-06-21T20:56:08.668691Z",
     "shell.execute_reply.started": "2024-06-21T20:56:08.666087Z"
    }
   },
   "outputs": [],
   "source": [
    "query = \"\"\"\n",
    "    SELECT *\n",
    "    FROM mydb://allwise_center_errorcut\n",
    "    \"\"\""
   ]
  },
  {
   "cell_type": "code",
   "execution_count": 191,
   "id": "e6611157-2ab3-4be5-8875-cf3cb5fbad49",
   "metadata": {
    "execution": {
     "iopub.execute_input": "2024-06-21T20:56:09.025578Z",
     "iopub.status.busy": "2024-06-21T20:56:09.025361Z",
     "iopub.status.idle": "2024-06-21T20:57:32.222072Z",
     "shell.execute_reply": "2024-06-21T20:57:32.221083Z",
     "shell.execute_reply.started": "2024-06-21T20:56:09.025566Z"
    }
   },
   "outputs": [],
   "source": [
    "test = qc.query(sql=query, fmt = 'pandas',timeout=1000000000)"
   ]
  },
  {
   "cell_type": "code",
   "execution_count": 192,
   "id": "a50f04cf-f75f-4347-9fdd-bbfe58211cc5",
   "metadata": {
    "execution": {
     "iopub.execute_input": "2024-06-21T20:57:32.223678Z",
     "iopub.status.busy": "2024-06-21T20:57:32.223484Z",
     "iopub.status.idle": "2024-06-21T20:57:32.232639Z",
     "shell.execute_reply": "2024-06-21T20:57:32.232107Z",
     "shell.execute_reply.started": "2024-06-21T20:57:32.223664Z"
    }
   },
   "outputs": [
    {
     "name": "stdout",
     "output_type": "stream",
     "text": [
      "             w1      w2          designation         ra        dec  ring256  \\\n",
      "0        17.445  15.855  J062106.67+365505.7  95.277795  36.918264   156431   \n",
      "1        16.733  15.208  J062022.30+371208.0  95.092955  37.202229   155406   \n",
      "2        14.920  14.040  J062025.27+370842.2  95.105312  37.145076   155406   \n",
      "3        17.430  15.511  J062030.86+370900.3  95.128591  37.150085   155406   \n",
      "4        16.841  15.386  J061926.58+371321.7  94.860785  37.222704   155405   \n",
      "...         ...     ...                  ...        ...        ...      ...   \n",
      "4718561  16.432  15.454  J062036.08+364816.3  95.150334  36.804532   157454   \n",
      "4718562  16.364  15.260  J062116.47+370036.0  95.318641  37.010003   156431   \n",
      "4718563  16.643  15.470  J062024.32+365451.0  95.101346  36.914194   157454   \n",
      "4718564  17.416  15.727  J062002.51+365127.6  95.010482  36.857674   157454   \n",
      "4718565  14.995  13.930  J062020.81+365006.7  95.086717  36.835218   157454   \n",
      "\n",
      "         w1snr  w2snr cc_flags        lat         lon  \n",
      "0          5.7    6.4     0000  10.370888  176.606561  \n",
      "1         10.0   10.6     0000  10.364348  176.281329  \n",
      "2         29.5   26.2     0000  10.347847  176.337848  \n",
      "3          5.6    8.9     0000  10.366700  176.341640  \n",
      "4          8.6    9.7     0O00  10.207775  176.179229  \n",
      "...        ...    ...      ...        ...         ...  \n",
      "4718561   12.3    8.9     0000  10.229077  176.664278  \n",
      "4718562   13.4    9.8     0000  10.440714  176.537563  \n",
      "4718563   10.6    8.6     0000  10.242613  176.546740  \n",
      "4718564    5.6    7.7     0000  10.152394  176.565384  \n",
      "4718565   24.6   25.4     0000  10.197065  176.613368  \n",
      "\n",
      "[4718566 rows x 11 columns]\n"
     ]
    }
   ],
   "source": [
    "print(test)"
   ]
  },
  {
   "cell_type": "code",
   "execution_count": 193,
   "id": "c0a40deb-3f3b-4023-89f9-36bb8dac58c9",
   "metadata": {
    "execution": {
     "iopub.execute_input": "2024-06-21T20:57:32.233428Z",
     "iopub.status.busy": "2024-06-21T20:57:32.233283Z",
     "iopub.status.idle": "2024-06-21T20:58:19.770117Z",
     "shell.execute_reply": "2024-06-21T20:58:19.769035Z",
     "shell.execute_reply.started": "2024-06-21T20:57:32.233416Z"
    }
   },
   "outputs": [],
   "source": [
    "a_tuples = [(test.ra[i], test.dec[i]) for i in range(len(test['dec']))]"
   ]
  },
  {
   "cell_type": "code",
   "execution_count": 194,
   "id": "68915b00-f285-4f89-b28f-6b5ed07fb209",
   "metadata": {
    "execution": {
     "iopub.execute_input": "2024-06-21T20:58:19.772249Z",
     "iopub.status.busy": "2024-06-21T20:58:19.772035Z",
     "iopub.status.idle": "2024-06-21T20:58:20.432090Z",
     "shell.execute_reply": "2024-06-21T20:58:20.431273Z",
     "shell.execute_reply.started": "2024-06-21T20:58:19.772234Z"
    }
   },
   "outputs": [],
   "source": [
    "a_arrs = (np.array([v[0] for v in a_tuples]), np.array([v[1] for v in a_tuples]))"
   ]
  },
  {
   "cell_type": "code",
   "execution_count": 269,
   "id": "0ed235b5-7729-44af-90ca-3c89d61dbd71",
   "metadata": {
    "execution": {
     "iopub.execute_input": "2024-06-21T21:38:25.785057Z",
     "iopub.status.busy": "2024-06-21T21:38:25.784676Z",
     "iopub.status.idle": "2024-06-21T21:38:25.800682Z",
     "shell.execute_reply": "2024-06-21T21:38:25.799985Z",
     "shell.execute_reply.started": "2024-06-21T21:38:25.785042Z"
    }
   },
   "outputs": [],
   "source": [
    "x, y = a_arrs\n",
    "points = np.c_[x.ravel(), y.ravel()]"
   ]
  },
  {
   "cell_type": "code",
   "execution_count": 270,
   "id": "e15a981c-1d2a-4b37-822d-9888a6de941b",
   "metadata": {
    "execution": {
     "iopub.execute_input": "2024-06-21T21:38:26.065190Z",
     "iopub.status.busy": "2024-06-21T21:38:26.064772Z",
     "iopub.status.idle": "2024-06-21T21:38:27.539350Z",
     "shell.execute_reply": "2024-06-21T21:38:27.538480Z",
     "shell.execute_reply.started": "2024-06-21T21:38:26.065174Z"
    }
   },
   "outputs": [],
   "source": [
    "tree = sp.KDTree(points, leafsize=5)"
   ]
  },
  {
   "cell_type": "code",
   "execution_count": 271,
   "id": "c975f1ca-1b2e-490a-b529-53df42c0c7cb",
   "metadata": {
    "execution": {
     "iopub.execute_input": "2024-06-21T21:38:27.540763Z",
     "iopub.status.busy": "2024-06-21T21:38:27.540581Z",
     "iopub.status.idle": "2024-06-21T21:38:27.547472Z",
     "shell.execute_reply": "2024-06-21T21:38:27.546938Z",
     "shell.execute_reply.started": "2024-06-21T21:38:27.540751Z"
    }
   },
   "outputs": [
    {
     "name": "stdout",
     "output_type": "stream",
     "text": [
      "24.7523520415004\n"
     ]
    }
   ],
   "source": [
    "csvFile = pandas.read_csv('lvgs_catalog.csv')\n",
    "rad = csvFile.ORAD/60\n",
    "a = rad*rad*np.pi\n",
    "print(sum(a))\n",
    "dec = csvFile.DEC\n",
    "ra = csvFile.RA\n",
    "centers = np.c_[ra, dec]"
   ]
  },
  {
   "cell_type": "code",
   "execution_count": 272,
   "id": "4b7dd07a-e1aa-4663-bd14-9c63916a8a96",
   "metadata": {
    "execution": {
     "iopub.execute_input": "2024-06-21T21:38:27.548185Z",
     "iopub.status.busy": "2024-06-21T21:38:27.548056Z",
     "iopub.status.idle": "2024-06-21T21:38:27.552952Z",
     "shell.execute_reply": "2024-06-21T21:38:27.552518Z",
     "shell.execute_reply.started": "2024-06-21T21:38:27.548174Z"
    }
   },
   "outputs": [],
   "source": [
    "contained = tree.query_ball_point(centers, rad)"
   ]
  },
  {
   "cell_type": "code",
   "execution_count": 273,
   "id": "36fbe891-a3d9-4786-bc2d-3b17f27179c5",
   "metadata": {
    "execution": {
     "iopub.execute_input": "2024-06-21T21:38:27.554240Z",
     "iopub.status.busy": "2024-06-21T21:38:27.553922Z",
     "iopub.status.idle": "2024-06-21T21:38:27.566909Z",
     "shell.execute_reply": "2024-06-21T21:38:27.566480Z",
     "shell.execute_reply.started": "2024-06-21T21:38:27.554229Z"
    }
   },
   "outputs": [
    {
     "name": "stdout",
     "output_type": "stream",
     "text": [
      "6115\n"
     ]
    }
   ],
   "source": [
    "arr = []\n",
    "for l in contained:\n",
    "    arr = arr + l\n",
    "print(len(arr))"
   ]
  },
  {
   "cell_type": "code",
   "execution_count": 274,
   "id": "b4fa582b-a391-4bfc-8f4b-fd69a4e9761d",
   "metadata": {
    "execution": {
     "iopub.execute_input": "2024-06-21T21:38:27.567842Z",
     "iopub.status.busy": "2024-06-21T21:38:27.567512Z",
     "iopub.status.idle": "2024-06-21T21:38:27.576857Z",
     "shell.execute_reply": "2024-06-21T21:38:27.576374Z",
     "shell.execute_reply.started": "2024-06-21T21:38:27.567829Z"
    }
   },
   "outputs": [
    {
     "name": "stdout",
     "output_type": "stream",
     "text": [
      "21.846298852368676\n"
     ]
    }
   ],
   "source": [
    "csvFile = pandas.read_csv('hii_regions_catalog.csv')\n",
    "rad = csvFile.RADIUS/1800\n",
    "a = rad*rad*np.pi\n",
    "print(sum(a))\n",
    "dec = csvFile.DEC\n",
    "ra = csvFile.RA\n",
    "centers = np.c_[ra, dec]"
   ]
  },
  {
   "cell_type": "code",
   "execution_count": 275,
   "id": "f5852308-658c-4974-b07a-5022b88eb98a",
   "metadata": {
    "execution": {
     "iopub.execute_input": "2024-06-21T21:38:27.577700Z",
     "iopub.status.busy": "2024-06-21T21:38:27.577420Z",
     "iopub.status.idle": "2024-06-21T21:38:27.589607Z",
     "shell.execute_reply": "2024-06-21T21:38:27.589155Z",
     "shell.execute_reply.started": "2024-06-21T21:38:27.577688Z"
    }
   },
   "outputs": [],
   "source": [
    "contained = tree.query_ball_point(centers, rad)"
   ]
  },
  {
   "cell_type": "code",
   "execution_count": 276,
   "id": "cf1e4425-19fe-405c-953a-8ba3c3967c1b",
   "metadata": {
    "execution": {
     "iopub.execute_input": "2024-06-21T21:38:27.645140Z",
     "iopub.status.busy": "2024-06-21T21:38:27.644874Z",
     "iopub.status.idle": "2024-06-21T21:38:27.713734Z",
     "shell.execute_reply": "2024-06-21T21:38:27.713219Z",
     "shell.execute_reply.started": "2024-06-21T21:38:27.645118Z"
    }
   },
   "outputs": [
    {
     "name": "stdout",
     "output_type": "stream",
     "text": [
      "6139\n"
     ]
    }
   ],
   "source": [
    "for l in contained:\n",
    "    arr = arr + l\n",
    "print(len(arr))"
   ]
  },
  {
   "cell_type": "code",
   "execution_count": 277,
   "id": "d8f166ac-4515-44f3-9a98-5a6ddc1ea42e",
   "metadata": {
    "execution": {
     "iopub.execute_input": "2024-06-21T21:38:27.828341Z",
     "iopub.status.busy": "2024-06-21T21:38:27.828070Z",
     "iopub.status.idle": "2024-06-21T21:38:27.833106Z",
     "shell.execute_reply": "2024-06-21T21:38:27.832663Z",
     "shell.execute_reply.started": "2024-06-21T21:38:27.828319Z"
    }
   },
   "outputs": [
    {
     "name": "stdout",
     "output_type": "stream",
     "text": [
      "3.538295784525163\n"
     ]
    }
   ],
   "source": [
    "csvFile = pandas.read_csv('pn_catalog.csv')\n",
    "rad = csvFile.RAD/1800\n",
    "a = rad*rad*np.pi\n",
    "print(sum(a))\n",
    "dec = csvFile.DEC\n",
    "ra = csvFile.RA\n",
    "centers = np.c_[ra, dec]"
   ]
  },
  {
   "cell_type": "code",
   "execution_count": 278,
   "id": "f4876d85-99a3-4a2e-ab08-fa8cca8ea3f1",
   "metadata": {
    "execution": {
     "iopub.execute_input": "2024-06-21T21:38:28.031588Z",
     "iopub.status.busy": "2024-06-21T21:38:28.031396Z",
     "iopub.status.idle": "2024-06-21T21:38:28.035611Z",
     "shell.execute_reply": "2024-06-21T21:38:28.035190Z",
     "shell.execute_reply.started": "2024-06-21T21:38:28.031577Z"
    }
   },
   "outputs": [],
   "source": [
    "contained = tree.query_ball_point(centers, rad)"
   ]
  },
  {
   "cell_type": "code",
   "execution_count": 279,
   "id": "c6c07b08-685b-4570-a10e-176386a2a274",
   "metadata": {
    "execution": {
     "iopub.execute_input": "2024-06-21T21:38:28.311218Z",
     "iopub.status.busy": "2024-06-21T21:38:28.310935Z",
     "iopub.status.idle": "2024-06-21T21:38:28.323919Z",
     "shell.execute_reply": "2024-06-21T21:38:28.323424Z",
     "shell.execute_reply.started": "2024-06-21T21:38:28.311195Z"
    }
   },
   "outputs": [
    {
     "name": "stdout",
     "output_type": "stream",
     "text": [
      "6684\n"
     ]
    }
   ],
   "source": [
    "for l in contained:\n",
    "    arr = arr + l\n",
    "print(len(arr))"
   ]
  },
  {
   "cell_type": "code",
   "execution_count": 292,
   "id": "6670b5b6-d2be-4d24-9dd4-459c7d64627f",
   "metadata": {
    "execution": {
     "iopub.execute_input": "2024-06-21T21:51:17.651326Z",
     "iopub.status.busy": "2024-06-21T21:51:17.650920Z",
     "iopub.status.idle": "2024-06-21T21:51:18.930516Z",
     "shell.execute_reply": "2024-06-21T21:51:18.929618Z",
     "shell.execute_reply.started": "2024-06-21T21:51:17.651310Z"
    }
   },
   "outputs": [
    {
     "name": "stdout",
     "output_type": "stream",
     "text": [
      "1646966\n",
      "419.3451941813458\n"
     ]
    }
   ],
   "source": [
    "csvFile = pandas.read_csv('2MASS_XSC.dat', sep='\\s+')\n",
    "rad = csvFile.RAD/1800\n",
    "a = rad*rad*np.pi\n",
    "print(sum(a))\n",
    "dec = csvFile.DEC\n",
    "ra = csvFile.RA\n",
    "centers = np.c_[ra, dec]"
   ]
  },
  {
   "cell_type": "code",
   "execution_count": 281,
   "id": "fd241f85-89c6-42c2-8615-363629ef1157",
   "metadata": {
    "execution": {
     "iopub.execute_input": "2024-06-21T21:38:29.946837Z",
     "iopub.status.busy": "2024-06-21T21:38:29.946627Z",
     "iopub.status.idle": "2024-06-21T21:38:32.923447Z",
     "shell.execute_reply": "2024-06-21T21:38:32.922717Z",
     "shell.execute_reply.started": "2024-06-21T21:38:29.946825Z"
    }
   },
   "outputs": [],
   "source": [
    "contained = tree.query_ball_point(centers, rad)"
   ]
  },
  {
   "cell_type": "code",
   "execution_count": 282,
   "id": "5e17c19a-8d0c-42ee-a5d8-6a1be40c97d4",
   "metadata": {
    "execution": {
     "iopub.execute_input": "2024-06-21T21:38:32.924581Z",
     "iopub.status.busy": "2024-06-21T21:38:32.924348Z",
     "iopub.status.idle": "2024-06-21T21:39:49.291988Z",
     "shell.execute_reply": "2024-06-21T21:39:49.291121Z",
     "shell.execute_reply.started": "2024-06-21T21:38:32.924567Z"
    }
   },
   "outputs": [
    {
     "name": "stdout",
     "output_type": "stream",
     "text": [
      "59883\n"
     ]
    }
   ],
   "source": [
    "for l in contained:\n",
    "    arr = arr + l\n",
    "print(len(arr))"
   ]
  },
  {
   "cell_type": "code",
   "execution_count": 283,
   "id": "3e4ca7b3-e63e-42d3-b80a-343b3ccf3ce1",
   "metadata": {
    "execution": {
     "iopub.execute_input": "2024-06-21T21:39:49.293924Z",
     "iopub.status.busy": "2024-06-21T21:39:49.293753Z",
     "iopub.status.idle": "2024-06-21T21:39:49.381920Z",
     "shell.execute_reply": "2024-06-21T21:39:49.381411Z",
     "shell.execute_reply.started": "2024-06-21T21:39:49.293909Z"
    }
   },
   "outputs": [
    {
     "name": "stdout",
     "output_type": "stream",
     "text": [
      "0       0.288786\n",
      "1       0.144943\n",
      "2       0.133512\n",
      "3       0.523208\n",
      "4       0.211100\n",
      "          ...   \n",
      "1786    0.752723\n",
      "1787    0.440646\n",
      "1788    0.337100\n",
      "1789    0.302250\n",
      "1790    0.025231\n",
      "Name: Area, Length: 1791, dtype: float64\n",
      "1370.5379999999989\n",
      "[[ 43.95835806  19.53491306]\n",
      " [ 44.01126361  20.28473944]\n",
      " [ 44.46151972  20.19989028]\n",
      " ...\n",
      " [244.73240389 -20.12045444]\n",
      " [243.97692222 -19.12374083]\n",
      " [293.0718725  -22.39255361]]\n"
     ]
    }
   ],
   "source": [
    "csvFile = pandas.read_csv('result_bright.csv')\n",
    "rad = np.sqrt(csvFile.Area/np.pi)\n",
    "print(sum(csvFile.Area))\n",
    "dec = csvFile._DE_icrs\n",
    "ra = csvFile._RA_icrs\n",
    "centers = np.c_[ra, dec]\n",
    "print(centers)"
   ]
  },
  {
   "cell_type": "code",
   "execution_count": 284,
   "id": "133b7997-da2c-4b96-a9a4-9ce12f5ea123",
   "metadata": {
    "execution": {
     "iopub.execute_input": "2024-06-21T21:39:49.382952Z",
     "iopub.status.busy": "2024-06-21T21:39:49.382624Z",
     "iopub.status.idle": "2024-06-21T21:39:49.435288Z",
     "shell.execute_reply": "2024-06-21T21:39:49.434531Z",
     "shell.execute_reply.started": "2024-06-21T21:39:49.382938Z"
    }
   },
   "outputs": [],
   "source": [
    "contained = tree.query_ball_point(centers, rad)"
   ]
  },
  {
   "cell_type": "code",
   "execution_count": 285,
   "id": "4c3c8f25-d559-406e-bb7a-16c8bd3c6250",
   "metadata": {
    "execution": {
     "iopub.execute_input": "2024-06-21T21:39:49.436432Z",
     "iopub.status.busy": "2024-06-21T21:39:49.436123Z",
     "iopub.status.idle": "2024-06-21T21:39:49.612512Z",
     "shell.execute_reply": "2024-06-21T21:39:49.611938Z",
     "shell.execute_reply.started": "2024-06-21T21:39:49.436418Z"
    }
   },
   "outputs": [
    {
     "name": "stdout",
     "output_type": "stream",
     "text": [
      "72993\n"
     ]
    }
   ],
   "source": [
    "for l in contained:\n",
    "    arr = arr + l\n",
    "print(len(arr))"
   ]
  },
  {
   "cell_type": "code",
   "execution_count": 286,
   "id": "5823ee5b-8ae6-4e8c-ad48-3f97ac6429ad",
   "metadata": {
    "execution": {
     "iopub.execute_input": "2024-06-21T21:39:49.613345Z",
     "iopub.status.busy": "2024-06-21T21:39:49.613204Z",
     "iopub.status.idle": "2024-06-21T21:39:49.619298Z",
     "shell.execute_reply": "2024-06-21T21:39:49.618855Z",
     "shell.execute_reply.started": "2024-06-21T21:39:49.613334Z"
    }
   },
   "outputs": [
    {
     "name": "stdout",
     "output_type": "stream",
     "text": [
      "1370.5379999999989\n"
     ]
    }
   ],
   "source": [
    "csvFile = pandas.read_csv('result.csv')\n",
    "rad = np.sqrt(csvFile.Area/np.pi)\n",
    "print(sum(csvFile.Area))\n",
    "dec = csvFile._DE_icrs\n",
    "ra = csvFile._RA_icrs\n",
    "centers = np.c_[ra.ravel(), dec.ravel()]"
   ]
  },
  {
   "cell_type": "code",
   "execution_count": 287,
   "id": "32784804-1f34-4ed8-a15e-f4d7c11333f6",
   "metadata": {
    "execution": {
     "iopub.execute_input": "2024-06-21T21:39:49.620185Z",
     "iopub.status.busy": "2024-06-21T21:39:49.619920Z",
     "iopub.status.idle": "2024-06-21T21:39:49.626165Z",
     "shell.execute_reply": "2024-06-21T21:39:49.625747Z",
     "shell.execute_reply.started": "2024-06-21T21:39:49.620172Z"
    }
   },
   "outputs": [],
   "source": [
    "contained = tree.query_ball_point(centers, rad)"
   ]
  },
  {
   "cell_type": "code",
   "execution_count": 288,
   "id": "b5b389e1-5087-4fc8-b62f-d44e7396be66",
   "metadata": {
    "execution": {
     "iopub.execute_input": "2024-06-21T21:39:49.626934Z",
     "iopub.status.busy": "2024-06-21T21:39:49.626758Z",
     "iopub.status.idle": "2024-06-21T21:39:49.848801Z",
     "shell.execute_reply": "2024-06-21T21:39:49.848354Z",
     "shell.execute_reply.started": "2024-06-21T21:39:49.626922Z"
    }
   },
   "outputs": [
    {
     "name": "stdout",
     "output_type": "stream",
     "text": [
      "86103\n"
     ]
    }
   ],
   "source": [
    "for l in contained:\n",
    "    arr = arr + l\n",
    "print(len(arr))"
   ]
  },
  {
   "cell_type": "code",
   "execution_count": 235,
   "id": "0ef04843-f95e-47df-b804-c103b9a30257",
   "metadata": {
    "execution": {
     "iopub.execute_input": "2024-06-21T21:01:46.480807Z",
     "iopub.status.busy": "2024-06-21T21:01:46.480663Z",
     "iopub.status.idle": "2024-06-21T21:01:46.787583Z",
     "shell.execute_reply": "2024-06-21T21:01:46.786891Z",
     "shell.execute_reply.started": "2024-06-21T21:01:46.480796Z"
    }
   },
   "outputs": [
    {
     "name": "stdout",
     "output_type": "stream",
     "text": [
      "4718566\n",
      "4653309\n"
     ]
    }
   ],
   "source": [
    "print(len(test))\n",
    "test.drop(labels=arr, inplace = True)\n",
    "print(len(test))"
   ]
  },
  {
   "cell_type": "code",
   "execution_count": 236,
   "id": "ed602488-ad34-4cd5-b43e-0112fc2b62b6",
   "metadata": {
    "execution": {
     "iopub.execute_input": "2024-06-21T21:01:46.788576Z",
     "iopub.status.busy": "2024-06-21T21:01:46.788397Z",
     "iopub.status.idle": "2024-06-21T21:01:46.892150Z",
     "shell.execute_reply": "2024-06-21T21:01:46.891377Z",
     "shell.execute_reply.started": "2024-06-21T21:01:46.788564Z"
    }
   },
   "outputs": [
    {
     "name": "stdout",
     "output_type": "stream",
     "text": [
      "             w1      w2          designation         ra        dec  ring256  \\\n",
      "0        17.445  15.855  J062106.67+365505.7  95.277795  36.918264   156431   \n",
      "1        14.920  14.040  J062025.27+370842.2  95.105312  37.145076   155406   \n",
      "2        17.430  15.511  J062030.86+370900.3  95.128591  37.150085   155406   \n",
      "3        16.841  15.386  J061926.58+371321.7  94.860785  37.222704   155405   \n",
      "4        17.078  15.473  J061913.77+371139.4  94.807396  37.194285   155405   \n",
      "...         ...     ...                  ...        ...        ...      ...   \n",
      "4653304  16.432  15.454  J062036.08+364816.3  95.150334  36.804532   157454   \n",
      "4653305  16.364  15.260  J062116.47+370036.0  95.318641  37.010003   156431   \n",
      "4653306  16.643  15.470  J062024.32+365451.0  95.101346  36.914194   157454   \n",
      "4653307  17.416  15.727  J062002.51+365127.6  95.010482  36.857674   157454   \n",
      "4653308  14.995  13.930  J062020.81+365006.7  95.086717  36.835218   157454   \n",
      "\n",
      "         w1snr  w2snr cc_flags        lat         lon  \n",
      "0          5.7    6.4     0000  10.370888  176.606561  \n",
      "1         29.5   26.2     0000  10.347847  176.337848  \n",
      "2          5.6    8.9     0000  10.366700  176.341640  \n",
      "3          8.6    9.7     0O00  10.207775  176.179229  \n",
      "4          7.6    8.7     0000  10.157047  176.185844  \n",
      "...        ...    ...      ...        ...         ...  \n",
      "4653304   12.3    8.9     0000  10.229077  176.664278  \n",
      "4653305   13.4    9.8     0000  10.440714  176.537563  \n",
      "4653306   10.6    8.6     0000  10.242613  176.546740  \n",
      "4653307    5.6    7.7     0000  10.152394  176.565384  \n",
      "4653308   24.6   25.4     0000  10.197065  176.613368  \n",
      "\n",
      "[4653309 rows x 11 columns]\n"
     ]
    }
   ],
   "source": [
    "test.index = range(len(test))\n",
    "print(test)\n",
    "test = test[['w1','w2','designation','ra','dec','ring256','lat','lon']]"
   ]
  },
  {
   "cell_type": "code",
   "execution_count": 237,
   "id": "d27b98db-dbfd-445f-aeee-78baa42a0212",
   "metadata": {
    "execution": {
     "iopub.execute_input": "2024-06-21T21:01:46.893375Z",
     "iopub.status.busy": "2024-06-21T21:01:46.892992Z",
     "iopub.status.idle": "2024-06-21T21:02:04.025370Z",
     "shell.execute_reply": "2024-06-21T21:02:04.024554Z",
     "shell.execute_reply.started": "2024-06-21T21:01:46.893361Z"
    }
   },
   "outputs": [],
   "source": [
    "test.to_csv('full_cut.csv')"
   ]
  },
  {
   "cell_type": "code",
   "execution_count": 156,
   "id": "fabbb20c-dc32-49a7-b6b7-3319f00a7622",
   "metadata": {
    "execution": {
     "iopub.execute_input": "2024-06-21T19:45:46.187186Z",
     "iopub.status.busy": "2024-06-21T19:45:46.186980Z",
     "iopub.status.idle": "2024-06-21T19:45:46.345678Z",
     "shell.execute_reply": "2024-06-21T19:45:46.345058Z",
     "shell.execute_reply.started": "2024-06-21T19:45:46.187173Z"
    }
   },
   "outputs": [
    {
     "data": {
      "text/plain": [
       "'OK'"
      ]
     },
     "execution_count": 156,
     "metadata": {},
     "output_type": "execute_result"
    }
   ],
   "source": [
    "qc.mydb_drop('extra_spatial_cut_allwise')\n",
    "qc.mydb_create('mydb://extra_allwise', cut_test)"
   ]
  },
  {
   "cell_type": "code",
   "execution_count": 157,
   "id": "0c140e29-fd7e-4a82-9d1d-4da39674bd26",
   "metadata": {
    "execution": {
     "iopub.execute_input": "2024-06-21T19:45:46.611840Z",
     "iopub.status.busy": "2024-06-21T19:45:46.611560Z",
     "iopub.status.idle": "2024-06-21T19:45:46.690196Z",
     "shell.execute_reply": "2024-06-21T19:45:46.689655Z",
     "shell.execute_reply.started": "2024-06-21T19:45:46.611824Z"
    }
   },
   "outputs": [
    {
     "name": "stdout",
     "output_type": "stream",
     "text": [
      "allwise_center_errorcut\n",
      "allwise_errorcuts\n",
      "allwise_extra_cut\n",
      "allwise_firstpass\n",
      "allwise_full_cut\n",
      "desi_allwise_1x5\n",
      "desi_assef_1x5\n",
      "extra_allwise\n",
      "extra_spatial_cut_allwise\n",
      "full_cut_allwise\n",
      "sdss_allwise_1x5\n",
      "sdss_assef_1x5\n",
      "tbl_stat\n",
      "unwise_center_errorcut\n",
      "unwise_firstpass\n",
      "wise_table\n",
      "\n"
     ]
    }
   ],
   "source": [
    "print(qc.mydb_list())"
   ]
  },
  {
   "cell_type": "code",
   "execution_count": 158,
   "id": "8e0df461-8d8a-418a-b485-d78bed65c01c",
   "metadata": {
    "execution": {
     "iopub.execute_input": "2024-06-21T19:45:46.988261Z",
     "iopub.status.busy": "2024-06-21T19:45:46.988014Z",
     "iopub.status.idle": "2024-06-21T19:45:46.991058Z",
     "shell.execute_reply": "2024-06-21T19:45:46.990577Z",
     "shell.execute_reply.started": "2024-06-21T19:45:46.988249Z"
    }
   },
   "outputs": [],
   "source": [
    "q = \"\"\"\n",
    "SELECT *\n",
    "FROM mydb://extra_allwise\n",
    "\"\"\""
   ]
  },
  {
   "cell_type": "code",
   "execution_count": 159,
   "id": "df4dd54b-2c62-4f16-9c9f-5696ccfd6ae3",
   "metadata": {
    "execution": {
     "iopub.execute_input": "2024-06-21T19:45:47.528195Z",
     "iopub.status.busy": "2024-06-21T19:45:47.527471Z",
     "iopub.status.idle": "2024-06-21T19:47:32.186783Z",
     "shell.execute_reply": "2024-06-21T19:47:32.185716Z",
     "shell.execute_reply.started": "2024-06-21T19:45:47.528173Z"
    }
   },
   "outputs": [],
   "source": [
    "test2 = qc.query(sql=query, fmt = 'pandas',timeout=1000000000)"
   ]
  },
  {
   "cell_type": "code",
   "execution_count": 160,
   "id": "5f769ae7-b37a-4a00-853b-f397ef97d513",
   "metadata": {
    "execution": {
     "iopub.execute_input": "2024-06-21T19:47:32.188404Z",
     "iopub.status.busy": "2024-06-21T19:47:32.188205Z",
     "iopub.status.idle": "2024-06-21T19:47:32.197201Z",
     "shell.execute_reply": "2024-06-21T19:47:32.196710Z",
     "shell.execute_reply.started": "2024-06-21T19:47:32.188389Z"
    }
   },
   "outputs": [
    {
     "name": "stdout",
     "output_type": "stream",
     "text": [
      "             w1      w2          designation         ra        dec  ring256  \\\n",
      "0        17.445  15.855  J062106.67+365505.7  95.277795  36.918264   156431   \n",
      "1        16.733  15.208  J062022.30+371208.0  95.092955  37.202229   155406   \n",
      "2        14.920  14.040  J062025.27+370842.2  95.105312  37.145076   155406   \n",
      "3        17.430  15.511  J062030.86+370900.3  95.128591  37.150085   155406   \n",
      "4        16.841  15.386  J061926.58+371321.7  94.860785  37.222704   155405   \n",
      "...         ...     ...                  ...        ...        ...      ...   \n",
      "4718561  16.432  15.454  J062036.08+364816.3  95.150334  36.804532   157454   \n",
      "4718562  16.364  15.260  J062116.47+370036.0  95.318641  37.010003   156431   \n",
      "4718563  16.643  15.470  J062024.32+365451.0  95.101346  36.914194   157454   \n",
      "4718564  17.416  15.727  J062002.51+365127.6  95.010482  36.857674   157454   \n",
      "4718565  14.995  13.930  J062020.81+365006.7  95.086717  36.835218   157454   \n",
      "\n",
      "         w1snr  w2snr cc_flags        lat         lon  \n",
      "0          5.7    6.4     0000  10.370888  176.606561  \n",
      "1         10.0   10.6     0000  10.364348  176.281329  \n",
      "2         29.5   26.2     0000  10.347847  176.337848  \n",
      "3          5.6    8.9     0000  10.366700  176.341640  \n",
      "4          8.6    9.7     0O00  10.207775  176.179229  \n",
      "...        ...    ...      ...        ...         ...  \n",
      "4718561   12.3    8.9     0000  10.229077  176.664278  \n",
      "4718562   13.4    9.8     0000  10.440714  176.537563  \n",
      "4718563   10.6    8.6     0000  10.242613  176.546740  \n",
      "4718564    5.6    7.7     0000  10.152394  176.565384  \n",
      "4718565   24.6   25.4     0000  10.197065  176.613368  \n",
      "\n",
      "[4718566 rows x 11 columns]\n"
     ]
    }
   ],
   "source": [
    "print(test2)"
   ]
  }
 ],
 "metadata": {
  "kernelspec": {
   "display_name": "Python 3",
   "language": "python",
   "name": "python3"
  },
  "language_info": {
   "codemirror_mode": {
    "name": "ipython",
    "version": 3
   },
   "file_extension": ".py",
   "mimetype": "text/x-python",
   "name": "python",
   "nbconvert_exporter": "python",
   "pygments_lexer": "ipython3",
   "version": "3.10.13"
  }
 },
 "nbformat": 4,
 "nbformat_minor": 5
}
